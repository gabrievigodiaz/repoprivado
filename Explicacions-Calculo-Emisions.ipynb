{
 "cells": [
  {
   "cell_type": "markdown",
   "id": "1fb21d20-75e0-4102-bfa7-eaa5e5d1caf8",
   "metadata": {},
   "source": [
    "# Explicacions-Calculo-Emisions.ipynb\n",
    "### Este script en Python realiza un cálculo de emisiones anuales para un viaje en coche, utilizando una función llamada calcular_emisiones.\n",
    "\n"
   ]
  },
  {
   "cell_type": "markdown",
   "id": "e15d0d8c-9419-4386-ba8b-c72e919959fe",
   "metadata": {},
   "source": [
    "## Descripción del Script\n",
    "Realiza cálculos de emisiones de carbono para diferentes modos de transporte. \n",
    "A continuación, se presentan los bloques de código que realizan los cálculos y se proporcionan resultados\n",
    "para casos específicos de viajes en coche, moto y una comparación personalizada."
   ]
  },
  {
   "cell_type": "code",
   "execution_count": null,
   "id": "754d1e60-897b-4331-bf00-381d78bc6b64",
   "metadata": {},
   "outputs": [],
   "source": [
    "#!/usr/bin/env python\n",
    "\n",
    "# Cálculo de emisións\n",
    "\n",
    "# Variables\n",
    "KMS_DIARIOS = 0\n",
    "DIAS_LABORAIS_SEMANAIS = 0\n",
    "SEMANAS = 0\n",
    "\n",
    "# Cada medio de transporte ten o seu índice de emisións medio (gramos por km)\n",
    "# https://www.movilidad-idae.es/destacados/emisiones-de-co2-por-modos-de-transporte-motorizado\n",
    "EMISION_X_KM = 121\n",
    "\n",
    "cantidade_de_emisions = KMS_DIARIOS * DIAS_LABORAIS_SEMANAIS * SEMANAS * EMISION_X_KM\n",
    "print('O teu consumo é:', cantidade_de_emisions, 'gC02')\n",
    "\n",
    "\n"
   ]
  },
  {
   "cell_type": "code",
   "execution_count": null,
   "id": "7f60f0c3-1747-4062-ad6e-c4428c56ad16",
   "metadata": {},
   "outputs": [],
   "source": [
    "#!/usr/bin/env python\n",
    "\n",
    "# Cálculo de emisións\n",
    "\n",
    "# Variables\n",
    "KMS_DIARIOS = 100\n",
    "DIAS_LABORAIS_SEMANAIS = 5\n",
    "SEMANAS = 48\n",
    "\n",
    "# Cada medio de transporte ten o seu índice de emisións medio (gramos por km)\n",
    "# https://www.movilidad-idae.es/destacados/emisiones-de-co2-por-modos-de-transporte-motorizado\n",
    "EMISION_X_KM = 121\n",
    "\n",
    "# Cálculo de emisiones anuales\n",
    "cantidade_de_emisions = KMS_DIARIOS * DIAS_LABORAIS_SEMANAIS * SEMANAS * EMISION_X_KM\n",
    "\n",
    "# Impresión del resultado\n",
    "print('As túas emisións anuais son:', cantidade_de_emisions, 'gCO2')\n"
   ]
  },
  {
   "cell_type": "code",
   "execution_count": null,
   "id": "7e3917e7-ce91-4170-90c0-f4da234b7501",
   "metadata": {},
   "outputs": [],
   "source": [
    "#!/usr/bin/env python\n",
    "\n",
    "# Cálculo de emisións\n",
    "\n",
    "# Variables\n",
    "KMS_DIARIOS = 20\n",
    "DIAS_LABORAIS_SEMANAIS = 3\n",
    "SEMANAS = 40\n",
    "\n",
    "# Cada medio de transporte ten o seu índice de emisións medio (gramos por km)\n",
    "# https://www.movilidad-idae.es/destacados/emisiones-de-co2-por-modos-de-transporte-motorizado\n",
    "EMISION_X_KM = 68  # Se ha actualizado con un valor aproximado para motocicletas\n",
    "\n",
    "# Cálculo de emisiones anuales\n",
    "cantidade_de_emisions = KMS_DIARIOS * DIAS_LABORAIS_SEMANAIS * SEMANAS * EMISION_X_KM\n",
    "\n",
    "# Impresión del resultado\n",
    "print('As túas emisións anuais son:', cantidade_de_emisions, 'gCO2')\n"
   ]
  },
  {
   "cell_type": "code",
   "execution_count": null,
   "id": "352e1643-36b0-4572-b6c3-9d3059cd8dcc",
   "metadata": {},
   "outputs": [],
   "source": [
    "#!/usr/bin/env python\n",
    "\n",
    "# Cálculo de emisións\n",
    "\n",
    "# Variables\n",
    "KMS_DIARIOS = 20\n",
    "DIAS_LABORAIS_SEMANAIS = 3\n",
    "SEMANAS = 24  \n",
    "\n",
    "# Cada medio de transporte ten o seu índice de emisións medio (gramos por km)\n",
    "# https://www.movilidad-idae.es/destacados/emisiones-de-co2-por-modos-de-transporte-motorizado\n",
    "EMISION_X_KM_MOTO = 68  # Valor aproximado para motocicletas\n",
    "EMISION_X_KM_COCHE = 50  # Valor aproximado para coches\n",
    "\n",
    "\n",
    "# Cálculo de emisiones anuales para moto\n",
    "cantidade_de_emisions_moto = KMS_DIARIOS * DIAS_LABORAIS_SEMANAIS * SEMANAS * EMISION_X_KM_MOTO\n",
    "cantidade_de_emisions_coche = KMS_DIARIOS * DIAS_LABORAIS_SEMANAIS * SEMANAS * EMISION_X_KM_COCHE\n",
    "\n",
    "# Impresión del resultado para moto\n",
    "print('As túas emisións anuais en moto son:', cantidade_de_emisions_moto, 'gCO2')\n",
    "print('As túas emisións anuais en coche son:', cantidade_de_emisions_coche, 'gCO2')\n"
   ]
  },
  {
   "cell_type": "code",
   "execution_count": null,
   "id": "f1d7acbd-0ca7-4759-9d39-3c908c8ce4f0",
   "metadata": {},
   "outputs": [],
   "source": [
    "#!/usr/bin/env python\n",
    "\n",
    "# Cálculo de ahorro en emisiones al cambiar de medio de transporte\n",
    "\n",
    "# Variables\n",
    "kms_diarios = 20\n",
    "dias_laborais_semanais = 3\n",
    "semanas_ao_ano = 24\n",
    "\n",
    "# Índices de emisiones (gramos por kilómetro)\n",
    "emisiones_moto = 68  # Valor aproximado para motocicletas\n",
    "emisiones_coche = 50  # Valor aproximado para coches\n",
    "\n",
    "# Cálculo de emisiones anuales para moto y coche\n",
    "emisiones_anuais_moto = kms_diarios * dias_laborais_semanais * semanas_ao_ano * emisiones_moto\n",
    "emisiones_anuais_coche = kms_diarios * dias_laborais_semanais * semanas_ao_ano * emisiones_coche\n",
    "\n",
    "# Impresión de los resultados\n",
    "print('Emisións anuais en moto:', emisiones_anuais_moto, 'gCO2')\n",
    "print('Emisións anuais en coche:', emisiones_anuais_coche, 'gCO2')\n",
    "\n",
    "# Cálculo de ahorro en emisiones al cambiar de moto a coche\n",
    "ahorro_emisiones = emisiones_anuais_moto - emisiones_anuais_coche\n",
    "print('Aforro en emisións ao cambiar de moto a coche:', ahorro_emisiones, 'gCO2')\n"
   ]
  },
  {
   "cell_type": "code",
   "execution_count": null,
   "id": "b48a8f74-979d-4c11-ab23-4edcc725d3ca",
   "metadata": {},
   "outputs": [],
   "source": []
  }
 ],
 "metadata": {
  "kernelspec": {
   "display_name": "Python 3",
   "language": "python",
   "name": "python3"
  },
  "language_info": {
   "codemirror_mode": {
    "name": "ipython",
    "version": 3
   },
   "file_extension": ".py",
   "mimetype": "text/x-python",
   "name": "python",
   "nbconvert_exporter": "python",
   "pygments_lexer": "ipython3",
   "version": "3.8.18"
  }
 },
 "nbformat": 4,
 "nbformat_minor": 5
}
